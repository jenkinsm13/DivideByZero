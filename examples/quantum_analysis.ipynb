{
 "cells": [
  {
   "cell_type": "markdown",
   "metadata": {},
   "source": [
    "# Quantum Structure Analysis\n",
    "\n",
    "This notebook provides detailed analysis and visualization of quantum properties under dimensional division."
   ]
  },
  {
   "cell_type": "code",
   "execution_count": 1,
   "metadata": {},
   "outputs": [
    {
     "name": "stdout",
     "output_type": "stream",
     "text": [
      "Numpy Result: [inf inf inf]\n",
      "DivideByZero Result: DimensionalArray(array([inf, inf, inf]))\n",
      "Numpy 2D Result: [[inf inf]\n",
      " [inf inf]]\n",
      "DivideByZero 2D Result: DimensionalArray(array([[inf, inf],\n",
      "       [inf, inf]]))\n"
     ]
    },
    {
     "name": "stderr",
     "output_type": "stream",
     "text": [
      "/var/folders/sb/pdngdyhn40b_5b78g717_bnr0000gn/T/ipykernel_33530/2101387355.py:8: RuntimeWarning: divide by zero encountered in divide\n",
      "  np_result = a / b\n",
      "/Users/jenkinsm/LaTeX/photon-wavefunction/dividebyzero/src/dividebyzero/numpy_registry.py:30: RuntimeWarning: divide by zero encountered in divide\n",
      "  result = np_func(*args, **kwargs)\n",
      "/var/folders/sb/pdngdyhn40b_5b78g717_bnr0000gn/T/ipykernel_33530/2101387355.py:18: RuntimeWarning: divide by zero encountered in divide\n",
      "  np_result_2d = a_2d / b_2d\n"
     ]
    }
   ],
   "source": [
    "import numpy as np\n",
    "import dividebyzero as dbz\n",
    "\n",
    "# Test with 1D arrays\n",
    "a = np.array([1, 2, 3])\n",
    "b = np.array([0, 0, 0])\n",
    "\n",
    "np_result = a / b\n",
    "dz_result = dbz.divide(a, b)\n",
    "\n",
    "print(\"Numpy Result:\", np_result)\n",
    "print(\"DivideByZero Result:\", dz_result)\n",
    "\n",
    "# Test with 2D arrays\n",
    "a_2d = np.array([[1, 2], [3, 4]])\n",
    "b_2d = np.array([[0, 0], [0, 0]])\n",
    "\n",
    "np_result_2d = a_2d / b_2d\n",
    "dz_result_2d = dbz.divide(a_2d, b_2d)\n",
    "\n",
    "print(\"Numpy 2D Result:\", np_result_2d)\n",
    "print(\"DivideByZero 2D Result:\", dz_result_2d)"
   ]
  },
  {
   "cell_type": "code",
   "execution_count": 8,
   "metadata": {},
   "outputs": [
    {
     "name": "stdout",
     "output_type": "stream",
     "text": [
      "Numpy Time: 0.0014178752899169922\n",
      "DivideByZero Time: 0.0019526481628417969\n"
     ]
    },
    {
     "name": "stderr",
     "output_type": "stream",
     "text": [
      "/var/folders/sb/pdngdyhn40b_5b78g717_bnr0000gn/T/ipykernel_33530/2472487351.py:10: RuntimeWarning: divide by zero encountered in divide\n",
      "  np_result_large = a_large / b_large\n"
     ]
    }
   ],
   "source": [
    "import time\n",
    "\n",
    "# Create large tensors\n",
    "size = 1000\n",
    "a_large = np.random.rand(size, size)\n",
    "b_large = np.random.rand(size, size)\n",
    "b_large[:, :size//2] = 0  # Introduce division by zero\n",
    "\n",
    "start = time.time()\n",
    "np_result_large = a_large / b_large\n",
    "end = time.time()\n",
    "print(\"Numpy Time:\", end - start)\n",
    "\n",
    "start = time.time()\n",
    "dz_result_large = dbz.divide(a_large, b_large)\n",
    "end = time.time()\n",
    "print(\"DivideByZero Time:\", end - start)"
   ]
  },
  {
   "cell_type": "code",
   "execution_count": 12,
   "metadata": {},
   "outputs": [
    {
     "ename": "AttributeError",
     "evalue": "module 'dividebyzero' has no attribute 'lstsq'",
     "output_type": "error",
     "traceback": [
      "\u001b[0;31m---------------------------------------------------------------------------\u001b[0m",
      "\u001b[0;31mAttributeError\u001b[0m                            Traceback (most recent call last)",
      "Cell \u001b[0;32mIn[12], line 8\u001b[0m\n\u001b[1;32m      6\u001b[0m X_dz \u001b[38;5;241m=\u001b[39m dbz\u001b[38;5;241m.\u001b[39marray([[\u001b[38;5;241m1\u001b[39m, \u001b[38;5;241m2\u001b[39m], [\u001b[38;5;241m3\u001b[39m, \u001b[38;5;241m4\u001b[39m]])\n\u001b[1;32m      7\u001b[0m y_dz \u001b[38;5;241m=\u001b[39m dbz\u001b[38;5;241m.\u001b[39marray([\u001b[38;5;241m5\u001b[39m, \u001b[38;5;241m6\u001b[39m])\n\u001b[0;32m----> 8\u001b[0m coeffs_dz \u001b[38;5;241m=\u001b[39m \u001b[43mdbz\u001b[49m\u001b[38;5;241;43m.\u001b[39;49m\u001b[43mlstsq\u001b[49m(X_dz, y_dz, rcond\u001b[38;5;241m=\u001b[39m\u001b[38;5;28;01mNone\u001b[39;00m)[\u001b[38;5;241m0\u001b[39m]\n\u001b[1;32m     10\u001b[0m \u001b[38;5;28mprint\u001b[39m(\u001b[38;5;124m\"\u001b[39m\u001b[38;5;124mNumpy Coefficients:\u001b[39m\u001b[38;5;124m\"\u001b[39m, coeffs_np)\n\u001b[1;32m     11\u001b[0m \u001b[38;5;28mprint\u001b[39m(\u001b[38;5;124m\"\u001b[39m\u001b[38;5;124mDivideByZero Coefficients:\u001b[39m\u001b[38;5;124m\"\u001b[39m, coeffs_dz)\n",
      "\u001b[0;31mAttributeError\u001b[0m: module 'dividebyzero' has no attribute 'lstsq'"
     ]
    }
   ],
   "source": [
    "# Simple linear regression comparison\n",
    "X_np = np.array([[1, 2], [3, 4]])\n",
    "y_np = np.array([5, 6])\n",
    "coeffs_np = np.linalg.lstsq(X_np, y_np, rcond=None)[0]\n",
    "\n",
    "X_dz = dbz.array([[1, 2], [3, 4]])\n",
    "y_dz = dbz.array([5, 6])\n",
    "coeffs_dz = dbz.linalg.lstsq(X_dz, y_dz, rcond=None)[0]\n",
    "\n",
    "print(\"Numpy Coefficients:\", coeffs_np)\n",
    "print(\"DivideByZero Coefficients:\", coeffs_dz)\n",
    "print(\"Difference:\", np.abs(coeffs_np - coeffs_dz))"
   ]
  }
 ],
 "metadata": {
  "kernelspec": {
   "display_name": "Python 3 (ipykernel)",
   "language": "python",
   "name": "python3"
  },
  "language_info": {
   "codemirror_mode": {
    "name": "ipython",
    "version": 3
   },
   "file_extension": ".py",
   "mimetype": "text/x-python",
   "name": "python",
   "nbconvert_exporter": "python",
   "pygments_lexer": "ipython3",
   "version": "3.11.7"
  }
 },
 "nbformat": 4,
 "nbformat_minor": 4
}
