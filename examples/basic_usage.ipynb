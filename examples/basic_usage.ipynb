{
 "cells": [
  {
   "cell_type": "markdown",
   "metadata": {},
   "source": [
    "# DivideByZero: Basic Usage Guide\n",
    "\n",
    "This notebook demonstrates how to use the `dividebyzero` package as a drop-in replacement for NumPy that handles division by zero operations."
   ]
  },
  {
   "cell_type": "code",
   "execution_count": 1,
   "metadata": {},
   "outputs": [
    {
     "name": "stdout",
     "output_type": "stream",
     "text": [
      "Original array:\n",
      "DimensionalArray(array([[1, 2, 3],\n",
      "       [4, 5, 6],\n",
      "       [7, 8, 9]]))\n",
      "\n",
      "After division by zero (dimensional reduction):\n",
      "DimensionalArray(array([ -3.6196    ,  -8.77091014, -13.92222029]))\n",
      "\n",
      "Reconstructed array:\n",
      "DimensionalArray(array([[1.73621838, 2.0717424 , 2.40726713],\n",
      "       [4.20715268, 5.02018646, 5.83322004],\n",
      "       [6.67808827, 7.96863053, 9.25917296]]))\n"
     ]
    }
   ],
   "source": [
    "import dividebyzero as dbz\n",
    "\n",
    "# Create a simple matrix\n",
    "x = dbz.array([\n",
    "    [1, 2, 3],\n",
    "    [4, 5, 6],\n",
    "    [7, 8, 9]\n",
    "])\n",
    "\n",
    "print(\"Original array:\")\n",
    "print(x)\n",
    "\n",
    "# Divide by zero - reduces dimension\n",
    "result = x / 0\n",
    "print(\"\\nAfter division by zero (dimensional reduction):\")\n",
    "print(result)\n",
    "\n",
    "# Reconstruct original dimensions\n",
    "reconstructed = result.elevate()\n",
    "print(\"\\nReconstructed array:\")\n",
    "print(reconstructed)"
   ]
  },
  {
   "cell_type": "code",
   "execution_count": 2,
   "metadata": {},
   "outputs": [
    {
     "name": "stderr",
     "output_type": "stream",
     "text": [
      "DEBUG:root:Elevating with target_shape: None, noise_scale: 1e-06\n",
      "DEBUG:root:Elevated data: [[ 7.07105954e-01  6.33818410e-07]\n",
      " [-1.87477323e-07  7.07106863e-01]]\n"
     ]
    },
    {
     "name": "stdout",
     "output_type": "stream",
     "text": [
      "Reduced Quantum State:\n",
      "<dividebyzero.quantum.tensor.QuantumTensor object at 0x11a1d8e50>\n",
      "\n",
      "Reconstructed Quantum State:\n",
      "<dividebyzero.quantum.tensor.QuantumTensor object at 0x109d41f10>\n"
     ]
    }
   ],
   "source": [
    "\n",
    "# Quantum state manipulation\n",
    "state = dbz.quantum.QuantumTensor([\n",
    "    [1, 0],\n",
    "    [0, 1]\n",
    "])\n",
    "\n",
    "# Preserve quantum information during reduction\n",
    "reduced_state = state / 0\n",
    "print(\"Reduced Quantum State:\")\n",
    "print(reduced_state)\n",
    "\n",
    "# Reconstruct the original state\n",
    "reconstructed_state = reduced_state.elevate()\n",
    "print(\"\\nReconstructed Quantum State:\")\n",
    "print(reconstructed_state)"
   ]
  },
  {
   "cell_type": "code",
   "execution_count": 3,
   "metadata": {},
   "outputs": [
    {
     "name": "stdout",
     "output_type": "stream",
     "text": [
      "Original array:\n",
      "DimensionalArray(array([[1, 2, 3],\n",
      "       [4, 5, 6],\n",
      "       [7, 8, 9]]))\n"
     ]
    }
   ],
   "source": [
    "import dividebyzero as dbz\n",
    "import numpy as np  # for comparison\n",
    "\n",
    "# Create a simple matrix\n",
    "x = dbz.array([\n",
    "    [1, 2, 3],\n",
    "    [4, 5, 6],\n",
    "    [7, 8, 9]\n",
    "])\n",
    "\n",
    "print(\"Original array:\")\n",
    "print(x)"
   ]
  },
  {
   "cell_type": "markdown",
   "metadata": {},
   "source": [
    "## Standard Operations\n",
    "The package works just like NumPy for normal operations:"
   ]
  },
  {
   "cell_type": "code",
   "execution_count": 4,
   "metadata": {},
   "outputs": [
    {
     "name": "stdout",
     "output_type": "stream",
     "text": [
      "Multiplication:\n",
      "DimensionalArray(array([[ 2,  4,  6],\n",
      "       [ 8, 10, 12],\n",
      "       [14, 16, 18]]))\n",
      "\n",
      "Regular division:\n",
      "DimensionalArray(array([[0.5, 1. , 1.5],\n",
      "       [2. , 2.5, 3. ],\n",
      "       [3.5, 4. , 4.5]]))\n"
     ]
    }
   ],
   "source": [
    "# Regular arithmetic\n",
    "print(\"Multiplication:\")\n",
    "print(x * 2)\n",
    "\n",
    "print(\"\\nRegular division:\")\n",
    "print(x / 2)"
   ]
  },
  {
   "cell_type": "markdown",
   "metadata": {},
   "source": [
    "## Division by Zero\n",
    "Here's where things get interesting - we can divide by zero!"
   ]
  },
  {
   "cell_type": "code",
   "execution_count": 5,
   "metadata": {},
   "outputs": [
    {
     "name": "stdout",
     "output_type": "stream",
     "text": [
      "After dividing by zero:\n",
      "DimensionalArray(array([ -3.6196    ,  -8.77091014, -13.92222029]))\n",
      "\n",
      "Shape changed from (3, 3) to (3,)\n"
     ]
    }
   ],
   "source": [
    "# Divide entire array by zero\n",
    "reduced = x / 0\n",
    "print(\"After dividing by zero:\")\n",
    "print(reduced)\n",
    "print(f\"\\nShape changed from {x.shape} to {reduced.shape}\")"
   ]
  },
  {
   "cell_type": "markdown",
   "metadata": {},
   "source": [
    "## Partial Division by Zero\n",
    "We can also divide only specific elements by zero:"
   ]
  },
  {
   "cell_type": "code",
   "execution_count": 6,
   "metadata": {},
   "outputs": [
    {
     "name": "stdout",
     "output_type": "stream",
     "text": [
      "Result of partial division by zero:\n",
      "DimensionalArray(array([[1.        , 2.        , 1.5       ],\n",
      "       [5.        , 1.66666667, 5.        ],\n",
      "       [1.75      , 8.        , 9.        ]]))\n"
     ]
    }
   ],
   "source": [
    "# Create a divisor with some zeros\n",
    "divisor = dbz.array([\n",
    "    [1, 0, 2],\n",
    "    [0, 3, 0],\n",
    "    [4, 1, 1]\n",
    "])\n",
    "\n",
    "result = x / divisor\n",
    "print(\"Result of partial division by zero:\")\n",
    "print(result)"
   ]
  },
  {
   "cell_type": "markdown",
   "metadata": {},
   "source": [
    "## Dimensional Elevation\n",
    "We can reconstruct the original dimensions:"
   ]
  },
  {
   "cell_type": "code",
   "execution_count": 7,
   "metadata": {},
   "outputs": [
    {
     "name": "stdout",
     "output_type": "stream",
     "text": [
      "Reconstructed array:\n",
      "DimensionalArray(array([[1.73621795, 2.07174253, 2.40726673],\n",
      "       [4.20715256, 5.02018652, 5.8332201 ],\n",
      "       [6.6780882 , 7.96863053, 9.25917306]]))\n",
      "\n",
      "Reconstruction error:\n",
      "DimensionalArray(array(0.26747412))\n"
     ]
    }
   ],
   "source": [
    "# Reconstruct from reduced form\n",
    "reconstructed = reduced.elevate()\n",
    "print(\"Reconstructed array:\")\n",
    "print(reconstructed)\n",
    "\n",
    "print(\"\\nReconstruction error:\")\n",
    "print(dbz.abs(x.array - reconstructed.array).mean())"
   ]
  }
 ],
 "metadata": {
  "kernelspec": {
   "display_name": "Python 3",
   "language": "python",
   "name": "python3"
  },
  "language_info": {
   "codemirror_mode": {
    "name": "ipython",
    "version": 3
   },
   "file_extension": ".py",
   "mimetype": "text/x-python",
   "name": "python",
   "nbconvert_exporter": "python",
   "pygments_lexer": "ipython3",
   "version": "3.11.7"
  }
 },
 "nbformat": 4,
 "nbformat_minor": 2
}
