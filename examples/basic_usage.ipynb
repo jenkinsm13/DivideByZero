{
 "cells": [
  {
   "cell_type": "markdown",
   "metadata": {},
   "source": [
    "# DivideByZero: Basic Usage Guide\n",
    "\n",
    "This notebook demonstrates how to use the `dividebyzero` package as a drop-in replacement for NumPy that handles division by zero operations."
   ]
  },
  {
   "cell_type": "code",
   "execution_count": 1,
   "metadata": {},
   "outputs": [
    {
     "ename": "ModuleNotFoundError",
     "evalue": "No module named 'dividebyzero'",
     "output_type": "error",
     "traceback": [
      "\u001b[0;31m---------------------------------------------------------------------------\u001b[0m",
      "\u001b[0;31mModuleNotFoundError\u001b[0m                       Traceback (most recent call last)",
      "Cell \u001b[0;32mIn[1], line 1\u001b[0m\n\u001b[0;32m----> 1\u001b[0m \u001b[38;5;28;01mimport\u001b[39;00m \u001b[38;5;21;01mdividebyzero\u001b[39;00m \u001b[38;5;28;01mas\u001b[39;00m \u001b[38;5;21;01mdbz\u001b[39;00m\n\u001b[1;32m      2\u001b[0m \u001b[38;5;28;01mimport\u001b[39;00m \u001b[38;5;21;01mnumpy\u001b[39;00m \u001b[38;5;28;01mas\u001b[39;00m \u001b[38;5;21;01mnp\u001b[39;00m  \u001b[38;5;66;03m# for comparison\u001b[39;00m\n\u001b[1;32m      4\u001b[0m \u001b[38;5;66;03m# Create a simple matrix\u001b[39;00m\n",
      "\u001b[0;31mModuleNotFoundError\u001b[0m: No module named 'dividebyzero'"
     ]
    }
   ],
   "source": [
    "import dividebyzero as dbz\n",
    "import numpy as np  # for comparison\n",
    "\n",
    "# Create a simple matrix\n",
    "x = dbz.array([\n",
    "    [1, 2, 3],\n",
    "    [4, 5, 6],\n",
    "    [7, 8, 9]\n",
    "])\n",
    "\n",
    "print(\"Original array:\")\n",
    "print(x)"
   ]
  },
  {
   "cell_type": "markdown",
   "metadata": {},
   "source": [
    "## Standard Operations\n",
    "The package works just like NumPy for normal operations:"
   ]
  },
  {
   "cell_type": "code",
   "execution_count": null,
   "metadata": {},
   "outputs": [],
   "source": [
    "# Regular arithmetic\n",
    "print(\"Multiplication:\")\n",
    "print(x * 2)\n",
    "\n",
    "print(\"\\nRegular division:\")\n",
    "print(x / 2)"
   ]
  },
  {
   "cell_type": "markdown",
   "metadata": {},
   "source": [
    "## Division by Zero\n",
    "Here's where things get interesting - we can divide by zero!"
   ]
  },
  {
   "cell_type": "code",
   "execution_count": null,
   "metadata": {},
   "outputs": [],
   "source": [
    "# Divide entire array by zero\n",
    "reduced = x / 0\n",
    "print(\"After dividing by zero:\")\n",
    "print(reduced)\n",
    "print(f\"\\nShape changed from {x.shape} to {reduced.shape}\")"
   ]
  },
  {
   "cell_type": "markdown",
   "metadata": {},
   "source": [
    "## Partial Division by Zero\n",
    "We can also divide only specific elements by zero:"
   ]
  },
  {
   "cell_type": "code",
   "execution_count": null,
   "metadata": {},
   "outputs": [],
   "source": [
    "# Create a divisor with some zeros\n",
    "divisor = dbz.array([\n",
    "    [1, 0, 2],\n",
    "    [0, 3, 0],\n",
    "    [4, 1, 1]\n",
    "])\n",
    "\n",
    "result = x / divisor\n",
    "print(\"Result of partial division by zero:\")\n",
    "print(result)"
   ]
  },
  {
   "cell_type": "markdown",
   "metadata": {},
   "source": [
    "## Dimensional Elevation\n",
    "We can reconstruct the original dimensions:"
   ]
  },
  {
   "cell_type": "code",
   "execution_count": null,
   "metadata": {},
   "outputs": [],
   "source": [
    "# Reconstruct from reduced form\n",
    "reconstructed = reduced.elevate()\n",
    "print(\"Reconstructed array:\")\n",
    "print(reconstructed)\n",
    "\n",
    "print(\"\\nReconstruction error:\")\n",
    "print(np.abs(x.array - reconstructed.array).mean())"
   ]
  }
 ],
 "metadata": {
  "kernelspec": {
   "display_name": "Python 3",
   "language": "python",
   "name": "python3"
  },
  "language_info": {
   "codemirror_mode": {
    "name": "ipython",
    "version": 3
   },
   "file_extension": ".py",
   "mimetype": "text/x-python",
   "name": "python",
   "nbconvert_exporter": "python",
   "pygments_lexer": "ipython3",
   "version": "3.11.7"
  }
 },
 "nbformat": 4,
 "nbformat_minor": 2
}
