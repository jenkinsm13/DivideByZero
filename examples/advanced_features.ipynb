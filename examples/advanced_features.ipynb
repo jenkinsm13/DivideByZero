{
 "cells": [
  {
   "cell_type": "markdown",
   "metadata": {},
   "source": [
    "# Advanced Features of DivideByZero Framework\n",
    "\n",
    "## Quantum Extensions and Gauge Field Applications\n",
    "\n",
    "This notebook explores advanced mathematical features of the `dividebyzero` framework, demonstrating:\n",
    "\n",
    "1. Quantum Tensor Networks\n",
    "2. Gauge Field Operations\n",
    "3. Holonomy Calculations\n",
    "4. Topological Invariants"
   ]
  },
  {
   "cell_type": "code",
   "execution_count": 1,
   "metadata": {},
   "outputs": [
    {
     "ename": "ModuleNotFoundError",
     "evalue": "No module named 'dividebyzero'",
     "output_type": "error",
     "traceback": [
      "\u001b[0;31m---------------------------------------------------------------------------\u001b[0m",
      "\u001b[0;31mModuleNotFoundError\u001b[0m                       Traceback (most recent call last)",
      "Cell \u001b[0;32mIn[1], line 1\u001b[0m\n\u001b[0;32m----> 1\u001b[0m \u001b[38;5;28;01mimport\u001b[39;00m \u001b[38;5;21;01mdividebyzero\u001b[39;00m \u001b[38;5;28;01mas\u001b[39;00m \u001b[38;5;21;01mdbz\u001b[39;00m\n\u001b[1;32m      2\u001b[0m \u001b[38;5;28;01mfrom\u001b[39;00m \u001b[38;5;21;01mdividebyzero\u001b[39;00m\u001b[38;5;21;01m.\u001b[39;00m\u001b[38;5;21;01mquantum\u001b[39;00m \u001b[38;5;28;01mimport\u001b[39;00m (\n\u001b[1;32m      3\u001b[0m     QuantumTensor,\n\u001b[1;32m      4\u001b[0m     GaugeField,\n\u001b[0;32m   (...)\u001b[0m\n\u001b[1;32m      7\u001b[0m     HolonomyCalculator\n\u001b[1;32m      8\u001b[0m )\n\u001b[1;32m      9\u001b[0m \u001b[38;5;28;01mimport\u001b[39;00m \u001b[38;5;21;01mnumpy\u001b[39;00m \u001b[38;5;28;01mas\u001b[39;00m \u001b[38;5;21;01mnp\u001b[39;00m\n",
      "\u001b[0;31mModuleNotFoundError\u001b[0m: No module named 'dividebyzero'"
     ]
    }
   ],
   "source": [
    "import dividebyzero as dbz\n",
    "from dividebyzero.quantum import (\n",
    "    QuantumTensor,\n",
    "    GaugeField,\n",
    "    SU2Group,\n",
    "    SU3Group,\n",
    "    HolonomyCalculator\n",
    ")\n",
    "import numpy as np\n",
    "import matplotlib.pyplot as plt"
   ]
  },
  {
   "cell_type": "markdown",
   "metadata": {},
   "source": [
    "## 1. Quantum Tensor Networks\n",
    "\n",
    "We begin by exploring quantum tensor operations with entanglement preservation. The framework implements tensor networks that respect quantum mechanical principles during dimensional reduction."
   ]
  },
  {
   "cell_type": "code",
   "execution_count": null,
   "metadata": {},
   "outputs": [],
   "source": [
    "# Create a quantum tensor representing an entangled state\n",
    "# |ψ⟩ = (|00⟩ + |11⟩)/√2\n",
    "bell_state = QuantumTensor(\n",
    "    data=np.array([[1, 0, 0, 1]]) / np.sqrt(2),\n",
    "    physical_dims=(2, 2)\n",
    ")\n",
    "\n",
    "# Perform Schmidt decomposition\n",
    "left, right = bell_state.schmidt_decompose(cut_index=1)\n",
    "\n",
    "print(\"Schmidt values:\")\n",
    "print(bell_state._entanglement_spectrum.schmidt_values)\n",
    "print(\"\\nEntanglement entropy:\")\n",
    "print(bell_state._entanglement_spectrum.entropy)"
   ]
  },
  {
   "cell_type": "markdown",
   "metadata": {},
   "source": [
    "### Dimensional Reduction with Entanglement Preservation\n",
    "\n",
    "The framework performs dimensional reduction while preserving quantum correlations:"
   ]
  },
  {
   "cell_type": "code",
   "execution_count": null,
   "metadata": {},
   "outputs": [],
   "source": [
    "# Create a more complex quantum state\n",
    "complex_state = QuantumTensor(\n",
    "    data=np.random.rand(2, 2, 2) + 1j * np.random.rand(2, 2, 2)\n",
    ")\n",
    "\n",
    "# Reduce dimensions while preserving entanglement\n",
    "reduced = complex_state.reduce_dimension(\n",
    "    target_dims=2,\n",
    "    preserve_entanglement=True\n",
    ")\n",
    "\n",
    "print(\"Original shape:\", complex_state.data.shape)\n",
    "print(\"Reduced shape:\", reduced.data.shape)\n",
    "print(\"\\nEntanglement preserved in singular values:\")\n",
    "print(reduced._entanglement_spectrum.schmidt_values)"
   ]
  },
  {
   "cell_type": "markdown",
   "metadata": {},
   "source": [
    "## 2. Gauge Field Operations\n",
    "\n",
    "Demonstrate gauge field calculations using different gauge groups (U(1), SU(2), SU(3))."
   ]
  },
  {
   "cell_type": "code",
   "execution_count": null,
   "metadata": {},
   "outputs": [],
   "source": [
    "# Initialize different gauge groups\n",
    "su2 = SU2Group()\n",
    "su3 = SU3Group()\n",
    "\n",
    "# Create gauge fields\n",
    "su2_field = GaugeField(\n",
    "    generators=su2.generators,\n",
    "    coupling=0.5\n",
    ")\n",
    "\n",
    "# Compute Wilson line along a path\n",
    "path = [(0,0), (1,0), (1,1), (0,1)]\n",
    "wilson_line = su2.compute_wilson_line(\n",
    "    connection=np.random.rand(2, 2, 2),\n",
    "    path=path\n",
    ")\n",
    "\n",
    "print(\"SU(2) Wilson line:\")\n",
    "print(wilson_line)"
   ]
  },
  {
   "cell_type": "markdown",
   "metadata": {},
   "source": [
    "### Non-Abelian Field Strength\n",
    "\n",
    "Compute field strength tensor for non-abelian gauge fields:"
   ]
  },
  {
   "cell_type": "code",
   "execution_count": null,
   "metadata": {},
   "outputs": [],
   "source": [
    "def compute_field_strength(connection, gauge_group):\n",
    "    \"\"\"Compute F_μν = ∂_μA_ν - ∂_νA_μ + ig[A_μ,A_ν]\"\"\"\n",
    "    strength = np.zeros((4, 4) + connection[0].shape, dtype=complex)\n",
    "    \n",
    "    for μ in range(4):\n",
    "        for ν in range(μ):\n",
    "            commutator = connection[μ] @ connection[ν] - connection[ν] @ connection[μ]\n",
    "            strength[μ,ν] = commutator * gauge_group.coupling\n",
    "            strength[ν,μ] = -strength[μ,ν]\n",
    "            \n",
    "    return strength\n",
    "\n",
    "# Generate random gauge connection\n",
    "connection = np.array([np.random.rand(3,3) + 1j * np.random.rand(3,3) for _ in range(4)])\n",
    "\n",
    "# Compute field strength\n",
    "F_μν = compute_field_strength(connection, su3)\n",
    "\n",
    "print(\"Field strength component F_12:\")\n",
    "print(F_μν[1,2])"
   ]
  },
  {
   "cell_type": "markdown",
   "metadata": {},
   "source": [
    "## 3. Holonomy Calculations\n",
    "\n",
    "Demonstrate advanced holonomy calculations including Berry phase and Chern numbers."
   ]
  },
  {
   "cell_type": "code",
   "execution_count": null,
   "metadata": {},
   "outputs": [],
   "source": [
    "# Initialize holonomy calculator\n",
    "holonomy_calc = HolonomyCalculator(gauge_group=su2)\n",
    "\n",
    "# Define a parameter-dependent Hamiltonian\n",
    "def hamiltonian(params):\n",
    "    x, y = params\n",
    "    return np.array([\n",
    "        [x, y - 1j],\n",
    "        [y + 1j, -x]\n",
    "    ])\n",
    "\n",
    "# Create a loop in parameter space\n",
    "t = np.linspace(0, 2*np.pi, 100)\n",
    "loop = [(np.cos(θ), np.sin(θ)) for θ in t]\n",
    "\n",
    "# Compute Berry phase\n",
    "berry_phase = holonomy_calc.berry_phase(\n",
    "    hamiltonian=hamiltonian,\n",
    "    loop=loop\n",
    ")\n",
    "\n",
    "print(f\"Berry phase: {berry_phase:.4f}π\")"
   ]
  },
  {
   "cell_type": "markdown",
   "metadata": {},
   "source": [
    "### Topological Invariants\n",
    "\n",
    "Calculate Chern numbers and topological invariants:"
   ]
  },
  {
   "cell_type": "code",
   "execution_count": null,
   "metadata": {},
   "outputs": [],
   "source": [
    "# Define Berry curvature for a simple model\n",
    "def berry_curvature(kx, ky):\n",
    "    return 1 / (2 * (kx**2 + ky**2 + 1)**1.5)\n",
    "\n",
    "# Create a grid of k-points\n",
    "k_points = [(x,y) for x in np.linspace(-2,2,20)\n",
    "                  for y in np.linspace(-2,2,20)]\n",
    "\n",
    "# Compute Chern number\n",
    "chern = holonomy_calc.compute_chern_number(\n",
    "    berry_curvature=berry_curvature,\n",
    "    surface=k_points\n",
    ")\n",
    "\n",
    "print(f\"Chern number: {chern}\")"
   ]
  },
  {
   "cell_type": "markdown",
   "metadata": {},
   "source": [
    "## 4. Practical Applications\n",
    "\n",
    "Demonstrate practical applications combining quantum tensors and gauge fields."
   ]
  },
  {
   "cell_type": "code",
   "execution_count": null,
   "metadata": {},
   "outputs": [],
   "source": [
    "# Create a quantum state with gauge symmetry\n",
    "def create_gauge_symmetric_state(gauge_group, size=4):\n",
    "    state = np.random.rand(size, size) + 1j * np.random.rand(size, size)\n",
    "    \n",
    "    # Project onto gauge-invariant subspace\n",
    "    for generator in gauge_group.generators:\n",
    "        state = state - np.trace(generator @ state) * generator\n",
    "    \n",
    "    return QuantumTensor(state)\n",
    "\n",
    "# Create and analyze state\n",
    "state = create_gauge_symmetric_state(su2)\n",
    "\n",
    "# Perform gauge-preserving dimensional reduction\n",
    "reduced = state.reduce_dimension(\n",
    "    target_dims=2,\n",
    "    preserve_entanglement=True\n",
    ")\n",
    "\n",
    "print(\"Original state properties:\")\n",
    "print(f\"Shape: {state.data.shape}\")\n",
    "print(f\"Entanglement: {state._entanglement_spectrum.entropy:.4f}\")\n",
    "\n",
    "print(\"\\nReduced state properties:\")\n",
    "print(f\"Shape: {reduced.data.shape}\")\n",
    "print(f\"Entanglement: {reduced._entanglement_spectrum.entropy:.4f}\")"
   ]
  }
 ],
 "metadata": {
  "kernelspec": {
   "display_name": "Python 3",
   "language": "python",
   "name": "python3"
  },
  "language_info": {
   "codemirror_mode": {
    "name": "ipython",
    "version": 3
   },
   "file_extension": ".py",
   "mimetype": "text/x-python",
   "name": "python",
   "nbconvert_exporter": "python",
   "pygments_lexer": "ipython3",
   "version": "3.11.7"
  }
 },
 "nbformat": 4,
 "nbformat_minor": 2
}
